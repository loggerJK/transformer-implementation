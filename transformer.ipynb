{
 "cells": [
  {
   "cell_type": "markdown",
   "metadata": {},
   "source": [
    "# Library"
   ]
  },
  {
   "cell_type": "code",
   "execution_count": 1,
   "metadata": {},
   "outputs": [
    {
     "name": "stdout",
     "output_type": "stream",
     "text": [
      "Requirement already satisfied: Korpora in /home/jiwon/anaconda3/lib/python3.9/site-packages (0.2.0)\n",
      "Requirement already satisfied: sentencepiece in /home/jiwon/anaconda3/lib/python3.9/site-packages (0.1.96)\n",
      "Requirement already satisfied: numpy>=1.18.0 in /home/jiwon/anaconda3/lib/python3.9/site-packages (from Korpora) (1.20.3)\n",
      "Requirement already satisfied: tqdm>=4.46.0 in /home/jiwon/anaconda3/lib/python3.9/site-packages (from Korpora) (4.62.3)\n",
      "Requirement already satisfied: dataclasses>=0.6 in /home/jiwon/anaconda3/lib/python3.9/site-packages (from Korpora) (0.6)\n",
      "Requirement already satisfied: xlrd>=1.2.0 in /home/jiwon/anaconda3/lib/python3.9/site-packages (from Korpora) (2.0.1)\n",
      "Requirement already satisfied: requests>=2.20.0 in /home/jiwon/anaconda3/lib/python3.9/site-packages (from Korpora) (2.26.0)\n",
      "Requirement already satisfied: idna<4,>=2.5 in /home/jiwon/anaconda3/lib/python3.9/site-packages (from requests>=2.20.0->Korpora) (3.2)\n",
      "Requirement already satisfied: charset-normalizer~=2.0.0 in /home/jiwon/anaconda3/lib/python3.9/site-packages (from requests>=2.20.0->Korpora) (2.0.4)\n",
      "Requirement already satisfied: urllib3<1.27,>=1.21.1 in /home/jiwon/anaconda3/lib/python3.9/site-packages (from requests>=2.20.0->Korpora) (1.26.7)\n",
      "Requirement already satisfied: certifi>=2017.4.17 in /home/jiwon/anaconda3/lib/python3.9/site-packages (from requests>=2.20.0->Korpora) (2021.10.8)\n"
     ]
    }
   ],
   "source": [
    "! pip install Korpora sentencepiece"
   ]
  },
  {
   "cell_type": "code",
   "execution_count": 19,
   "metadata": {
    "id": "WxM006iV5StT"
   },
   "outputs": [],
   "source": [
    "import torch\n",
    "import torch.nn as nn\n",
    "import torch.nn.functional as F\n",
    "from torch.utils.data import Dataset, DataLoader\n",
    "from Korpora import Korpora\n",
    "import pandas as pd\n",
    "from pprint import pprint\n",
    "# from konlpy.tag import Mecab\n",
    "from nltk.tokenize import word_tokenize as en_tokenizer\n",
    "import sentencepiece as spm\n",
    "import urllib.request\n",
    "import csv\n",
    "import numpy as np\n",
    "\n"
   ]
  },
  {
   "cell_type": "code",
   "execution_count": 3,
   "metadata": {},
   "outputs": [],
   "source": [
    "SEQ_LEN = 200"
   ]
  },
  {
   "cell_type": "markdown",
   "metadata": {},
   "source": [
    "# Load Data"
   ]
  },
  {
   "cell_type": "code",
   "execution_count": 4,
   "metadata": {
    "colab": {
     "base_uri": "https://localhost:8080/"
    },
    "id": "jZtd6ivuCz_z",
    "outputId": "5267dbd8-4ca8-4d39-b785-4c68814fa0ff"
   },
   "outputs": [
    {
     "name": "stdout",
     "output_type": "stream",
     "text": [
      "\n",
      "    Korpora 는 다른 분들이 연구 목적으로 공유해주신 말뭉치들을\n",
      "    손쉽게 다운로드, 사용할 수 있는 기능만을 제공합니다.\n",
      "\n",
      "    말뭉치들을 공유해 주신 분들에게 감사드리며, 각 말뭉치 별 설명과 라이센스를 공유 드립니다.\n",
      "    해당 말뭉치에 대해 자세히 알고 싶으신 분은 아래의 description 을 참고,\n",
      "    해당 말뭉치를 연구/상용의 목적으로 이용하실 때에는 아래의 라이센스를 참고해 주시기 바랍니다.\n",
      "\n",
      "    # Description\n",
      "    Author : TRAC (https://trac.edgewall.org/)\n",
      "    Repository : http://opus.nlpl.eu/OpenSubtitles-v2018.php\n",
      "    References :\n",
      "        - P. Lison and J. Tiedemann, 2016, OpenSubtitles2016: Extracting Large Parallel Corpora\n",
      "          from Movie and TV Subtitles. In Proceedings of the 10th International Conference on\n",
      "          Language Resources and Evaluation (LREC 2016)\n",
      "\n",
      "    This is a new collection of translated movie subtitles from http://www.opensubtitles.org/.\n",
      "\n",
      "    [[ IMPORTANT ]]\n",
      "    If you use the OpenSubtitle corpus: Please, add a link to http://www.opensubtitles.org/\n",
      "    to your website and to your reports and publications produced with the data!\n",
      "    I promised this when I got the data from the providers of that website!\n",
      "\n",
      "    This is a slightly cleaner version of the subtitle collection using improved sentence alignment\n",
      "    and better language checking.\n",
      "\n",
      "    62 languages, 1,782 bitexts\n",
      "    total number of files: 3,735,070\n",
      "    total number of tokens: 22.10G\n",
      "    total number of sentence fragments: 3.35G\n",
      "\n",
      "    [[ NOTICE ]]\n",
      "    In original data, the source language is `en` and target language is `ko`. However in Korpora,\n",
      "    we change the language pair so that source language is `ko` and target language is `en`.\n",
      "\n",
      "    # License\n",
      "    Open Data. Details in https://opendefinition.org/od/2.1/en/\n",
      "\n",
      "[Korpora] Corpus `open_subtitles` is already installed at /home/jiwon/github/transformer-implementation/open_subtitles/en-ko.tmx.gz\n",
      "[Korpora] Corpus `open_subtitles` is already installed at /home/jiwon/github/transformer-implementation/open_subtitles/en-ko.tmx\n"
     ]
    }
   ],
   "source": [
    "# dataset = open_subtitles_dataset()\n",
    "corpus = Korpora.load(\"open_subtitles\", root_dir='./')\n"
   ]
  },
  {
   "cell_type": "code",
   "execution_count": 5,
   "metadata": {
    "colab": {
     "base_uri": "https://localhost:8080/",
     "height": 206
    },
    "id": "CpuQ8uGZOFqQ",
    "outputId": "312e8e16-b555-4392-b327-a3893b6a67c1"
   },
   "outputs": [
    {
     "data": {
      "text/html": [
       "<div>\n",
       "<style scoped>\n",
       "    .dataframe tbody tr th:only-of-type {\n",
       "        vertical-align: middle;\n",
       "    }\n",
       "\n",
       "    .dataframe tbody tr th {\n",
       "        vertical-align: top;\n",
       "    }\n",
       "\n",
       "    .dataframe thead th {\n",
       "        text-align: right;\n",
       "    }\n",
       "</style>\n",
       "<table border=\"1\" class=\"dataframe\">\n",
       "  <thead>\n",
       "    <tr style=\"text-align: right;\">\n",
       "      <th></th>\n",
       "      <th>src</th>\n",
       "      <th>trg</th>\n",
       "    </tr>\n",
       "  </thead>\n",
       "  <tbody>\n",
       "    <tr>\n",
       "      <th>0</th>\n",
       "      <td>Through the snow and sleet and hail, through t...</td>\n",
       "      <td>폭설이 내리고 우박, 진눈깨비가 퍼부어도 눈보라가 몰아쳐도 강풍이 불고 비바람이 휘...</td>\n",
       "    </tr>\n",
       "    <tr>\n",
       "      <th>1</th>\n",
       "      <td>ever faithful, ever true, nothing stops him, h...</td>\n",
       "      <td>우리의 한결같은 심부름꾼 황새 아저씨 가는 길을 그 누가 막으랴!</td>\n",
       "    </tr>\n",
       "    <tr>\n",
       "      <th>2</th>\n",
       "      <td>Look out for Mr Stork That persevering chap</td>\n",
       "      <td>황새 아저씨를 기다리세요</td>\n",
       "    </tr>\n",
       "    <tr>\n",
       "      <th>3</th>\n",
       "      <td>He'll come along and drop a bundle in your lap</td>\n",
       "      <td>찾아와 선물을 주실 거예요</td>\n",
       "    </tr>\n",
       "    <tr>\n",
       "      <th>4</th>\n",
       "      <td>You may be poor or rich It doesn't matter which</td>\n",
       "      <td>가난하든 부자이든 상관이 없답니다</td>\n",
       "    </tr>\n",
       "  </tbody>\n",
       "</table>\n",
       "</div>"
      ],
      "text/plain": [
       "                                                 src  \\\n",
       "0  Through the snow and sleet and hail, through t...   \n",
       "1  ever faithful, ever true, nothing stops him, h...   \n",
       "2        Look out for Mr Stork That persevering chap   \n",
       "3     He'll come along and drop a bundle in your lap   \n",
       "4    You may be poor or rich It doesn't matter which   \n",
       "\n",
       "                                                 trg  \n",
       "0  폭설이 내리고 우박, 진눈깨비가 퍼부어도 눈보라가 몰아쳐도 강풍이 불고 비바람이 휘...  \n",
       "1               우리의 한결같은 심부름꾼 황새 아저씨 가는 길을 그 누가 막으랴!  \n",
       "2                                      황새 아저씨를 기다리세요  \n",
       "3                                     찾아와 선물을 주실 거예요  \n",
       "4                                 가난하든 부자이든 상관이 없답니다  "
      ]
     },
     "execution_count": 5,
     "metadata": {},
     "output_type": "execute_result"
    }
   ],
   "source": [
    "data = pd.DataFrame([corpus.train.pairs, corpus.train.texts], index = ['src', 'trg'])\n",
    "data = data.transpose()\n",
    "data.to_csv('data.txt', index=False)\n",
    "data.head()"
   ]
  },
  {
   "cell_type": "code",
   "execution_count": 6,
   "metadata": {},
   "outputs": [
    {
     "data": {
      "text/html": [
       "<div>\n",
       "<style scoped>\n",
       "    .dataframe tbody tr th:only-of-type {\n",
       "        vertical-align: middle;\n",
       "    }\n",
       "\n",
       "    .dataframe tbody tr th {\n",
       "        vertical-align: top;\n",
       "    }\n",
       "\n",
       "    .dataframe thead th {\n",
       "        text-align: right;\n",
       "    }\n",
       "</style>\n",
       "<table border=\"1\" class=\"dataframe\">\n",
       "  <thead>\n",
       "    <tr style=\"text-align: right;\">\n",
       "      <th></th>\n",
       "      <th>src</th>\n",
       "      <th>trg</th>\n",
       "    </tr>\n",
       "  </thead>\n",
       "  <tbody>\n",
       "    <tr>\n",
       "      <th>0</th>\n",
       "      <td>Through the snow and sleet and hail, through t...</td>\n",
       "      <td>폭설이 내리고 우박, 진눈깨비가 퍼부어도 눈보라가 몰아쳐도 강풍이 불고 비바람이 휘...</td>\n",
       "    </tr>\n",
       "    <tr>\n",
       "      <th>1</th>\n",
       "      <td>ever faithful, ever true, nothing stops him, h...</td>\n",
       "      <td>우리의 한결같은 심부름꾼 황새 아저씨 가는 길을 그 누가 막으랴!</td>\n",
       "    </tr>\n",
       "    <tr>\n",
       "      <th>2</th>\n",
       "      <td>Look out for Mr Stork That persevering chap</td>\n",
       "      <td>황새 아저씨를 기다리세요</td>\n",
       "    </tr>\n",
       "    <tr>\n",
       "      <th>3</th>\n",
       "      <td>He'll come along and drop a bundle in your lap</td>\n",
       "      <td>찾아와 선물을 주실 거예요</td>\n",
       "    </tr>\n",
       "    <tr>\n",
       "      <th>4</th>\n",
       "      <td>You may be poor or rich It doesn't matter which</td>\n",
       "      <td>가난하든 부자이든 상관이 없답니다</td>\n",
       "    </tr>\n",
       "  </tbody>\n",
       "</table>\n",
       "</div>"
      ],
      "text/plain": [
       "                                                 src  \\\n",
       "0  Through the snow and sleet and hail, through t...   \n",
       "1  ever faithful, ever true, nothing stops him, h...   \n",
       "2        Look out for Mr Stork That persevering chap   \n",
       "3     He'll come along and drop a bundle in your lap   \n",
       "4    You may be poor or rich It doesn't matter which   \n",
       "\n",
       "                                                 trg  \n",
       "0  폭설이 내리고 우박, 진눈깨비가 퍼부어도 눈보라가 몰아쳐도 강풍이 불고 비바람이 휘...  \n",
       "1               우리의 한결같은 심부름꾼 황새 아저씨 가는 길을 그 누가 막으랴!  \n",
       "2                                      황새 아저씨를 기다리세요  \n",
       "3                                     찾아와 선물을 주실 거예요  \n",
       "4                                 가난하든 부자이든 상관이 없답니다  "
      ]
     },
     "execution_count": 6,
     "metadata": {},
     "output_type": "execute_result"
    }
   ],
   "source": [
    "data = pd.read_csv('data.txt')\n",
    "data.head()"
   ]
  },
  {
   "cell_type": "markdown",
   "metadata": {},
   "source": [
    "## Sentencepiece Train"
   ]
  },
  {
   "cell_type": "code",
   "execution_count": 7,
   "metadata": {
    "id": "qKGd7SI8OFqR"
   },
   "outputs": [],
   "source": [
    "with open('src.txt', mode = 'w', encoding='utf8') as f:\n",
    "    f.write('\\n'.join(data['src']))\n",
    "with open('trg.txt', mode= 'w', encoding='utf8') as f:\n",
    "    f.write('\\n'.join(data['trg']))"
   ]
  },
  {
   "cell_type": "code",
   "execution_count": 9,
   "metadata": {},
   "outputs": [],
   "source": [
    "corpus = \"src.txt\"\n",
    "prefix = \"src\"\n",
    "vocab_size = 32000\n",
    "spm.SentencePieceTrainer.train(\n",
    "    f\"--input={corpus} --model_prefix={prefix} --vocab_size={vocab_size + 7}\" +\n",
    "    \" --model_type=bpe\" +\n",
    "    \" --max_sentence_length=999999\" +  # 문장 최대 길이\n",
    "    \" --pad_id=0 --pad_piece=[PAD]\" +  # pad (0)\n",
    "    \" --unk_id=1 --unk_piece=[UNK]\" +  # unknown (1)\n",
    "    \" --bos_id=2 --bos_piece=[BOS]\" +  # begin of sequence (2)\n",
    "    \" --eos_id=3 --eos_piece=[EOS]\" +  # end of sequence (3)\n",
    "    \" --user_defined_symbols=[SEP],[CLS],[MASK]\")  # 사용자 정의 토큰\n"
   ]
  },
  {
   "cell_type": "code",
   "execution_count": 10,
   "metadata": {},
   "outputs": [
    {
     "name": "stdout",
     "output_type": "stream",
     "text": [
      "['▁I', '▁didn', \"'\", 't', '▁at', '▁all', '▁think', '▁of', '▁it', '▁this', '▁way', '.']\n",
      "[14, 346, 31954, 31935, 178, 163, 232, 64, 58, 115, 343, 31944]\n",
      "['▁I', '▁have', '▁waited', '▁a', '▁long', '▁time', '▁for', '▁someone', '▁to', '▁film']\n",
      "[14, 114, 5073, 10, 519, 280, 103, 731, 30, 3650]\n",
      "['▁[', 'P', 'AD', ']', '▁', '[CLS]', '▁[', 'B', 'OS', ']', '▁[', 'E', 'OS', ']', '▁', '[SEP]', '▁[', 'UN', 'K', ']']\n",
      "[361, 31980, 3429, 31992, 31933, 5, 361, 31974, 3377, 31992, 361, 31978, 3377, 31992, 31933, 4, 361, 2774, 31987, 31992]\n"
     ]
    }
   ],
   "source": [
    "sp_src = spm.SentencePieceProcessor()\n",
    "sp_src.Load('src.model')\n",
    "lines = [\n",
    "    \"I didn't at all think of it this way.\",\n",
    "    \"I have waited a long time for someone to film\",\n",
    "    \"[PAD] [CLS] [BOS] [EOS] [SEP] [UNK] \"\n",
    "]\n",
    "for line in lines:\n",
    "    print(sp_src.EncodeAsPieces(line))\n",
    "    print(sp_src.EncodeAsIds(line))\n"
   ]
  },
  {
   "cell_type": "code",
   "execution_count": 12,
   "metadata": {},
   "outputs": [],
   "source": [
    "corpus = \"trg.txt\"\n",
    "prefix = \"trg\"\n",
    "vocab_size = 32000\n",
    "spm.SentencePieceTrainer.train(\n",
    "    f\"--input={corpus} --model_prefix={prefix} --vocab_size={vocab_size + 7}\" +\n",
    "    \" --model_type=bpe\" +\n",
    "    \" --max_sentence_length=999999\" +  # 문장 최대 길이\n",
    "    \" --pad_id=0 --pad_piece=[PAD]\" +  # pad (0)\n",
    "    \" --unk_id=1 --unk_piece=[UNK]\" +  # unknown (1)\n",
    "    \" --bos_id=2 --bos_piece=[BOS]\" +  # begin of sequence (2)\n",
    "    \" --eos_id=3 --eos_piece=[EOS]\" +  # end of sequence (3)\n",
    "    \" --user_defined_symbols=[SEP],[CLS],[MASK]\")  # 사용자 정의 토큰\n"
   ]
  },
  {
   "cell_type": "code",
   "execution_count": 13,
   "metadata": {},
   "outputs": [
    {
     "name": "stdout",
     "output_type": "stream",
     "text": [
      "['▁알', '잘', '딱', '깔', '센', '▁임마', '▁그거', '▁몰라', '?', '.']\n",
      "[28, 30693, 31173, 31412, 31227, 5378, 635, 467, 30557, 30547]\n",
      "['▁하', '..', '▁존나', '▁싫다', '...']\n",
      "[14, 15, 5522, 9095, 27]\n",
      "['▁가족이', '▁사람을', '▁죽여서', '▁면', '목이', '▁없다', '거나', '▁같이', '▁살던', '▁사람들이', '▁살해당', '해서', '▁책임을', '▁느낀', '다거나', '▁자신의', '▁이런', '▁저런', '▁일로']\n",
      "[2957, 970, 17264, 1568, 8939, 1288, 792, 364, 12102, 671, 8318, 200, 7016, 8210, 23194, 2029, 275, 2758, 3525]\n",
      "['▁[', 'P', 'A', 'D', ']', '▁', '[CLS]', '▁[', 'B', 'O', 'S', ']', '▁[', 'EO', 'S', ']', '▁', '[SEP]', '▁[', 'UN', 'K', ']']\n",
      "[699, 31049, 30846, 30963, 31062, 30545, 5, 699, 30955, 30947, 30856, 31062, 699, 6999, 30856, 31062, 30545, 4, 699, 17323, 31214, 31062]\n"
     ]
    }
   ],
   "source": [
    "sp_trg = spm.SentencePieceProcessor()\n",
    "sp_trg.Load('trg.model')\n",
    "lines = [\n",
    "    \"알잘딱깔센 임마 그거 몰라?.\",\n",
    "    \"하.. 존나 싫다...\",\n",
    "    \"가족이 사람을 죽여서 면목이 없다거나 같이 살던 사람들이 살해당해서 책임을 느낀다거나 자신의 이런 저런 일로\",\n",
    "    \"[PAD] [CLS] [BOS] [EOS] [SEP] [UNK] \"\n",
    "]\n",
    "for line in lines:\n",
    "    print(sp_trg.EncodeAsPieces(line))\n",
    "    print(sp_trg.EncodeAsIds(line))\n"
   ]
  },
  {
   "cell_type": "markdown",
   "metadata": {},
   "source": [
    "## SRC Data (EN) Preprocessing"
   ]
  },
  {
   "cell_type": "code",
   "execution_count": 23,
   "metadata": {},
   "outputs": [],
   "source": [
    "def en_encode(tmpstr:str) -> np.array :\n",
    "    tmpstr = np.array(sp_src.EncodeAsIds(tmpstr))\n",
    "\n",
    "    # SEQ_LEN보다 길면 짜른다 \n",
    "    if len(tmpstr) > SEQ_LEN :\n",
    "        tmpstr = tmpstr[:SEQ_LEN]\n",
    "\n",
    "    # SEQ_LEN보다 작으면 padding\n",
    "    else :\n",
    "        tmpstr = np.pad(tmpstr, (0, SEQ_LEN - len(tmpstr)), 'constant', constant_values = sp_src.pad_id())\n",
    "    \n",
    "    return tmpstr"
   ]
  },
  {
   "cell_type": "code",
   "execution_count": null,
   "metadata": {},
   "outputs": [],
   "source": [
    "# src_data는 data['src']를 참조한다. (동일 id)\n",
    "src_data = data['src']\n",
    "\n",
    "src_list = []\n",
    "for item in src_data:\n",
    "    src_list.append(en_encode(item))\n",
    "\n",
    "src_list[:10]"
   ]
  },
  {
   "cell_type": "code",
   "execution_count": 25,
   "metadata": {},
   "outputs": [
    {
     "name": "stderr",
     "output_type": "stream",
     "text": [
      "/tmp/ipykernel_2735/1861374787.py:1: UserWarning: Creating a tensor from a list of numpy.ndarrays is extremely slow. Please consider converting the list to a single numpy.ndarray with numpy.array() before converting to a tensor. (Triggered internally at  ../torch/csrc/utils/tensor_new.cpp:201.)\n",
      "  src_data = torch.tensor(src_list)\n"
     ]
    },
    {
     "data": {
      "text/plain": [
       "torch.Size([1269683, 200])"
      ]
     },
     "execution_count": 25,
     "metadata": {},
     "output_type": "execute_result"
    }
   ],
   "source": [
    "src_data = torch.tensor(src_list)\n",
    "src_data.shape"
   ]
  },
  {
   "cell_type": "markdown",
   "metadata": {},
   "source": [
    "## TRG Data (KO) Preprocessing"
   ]
  },
  {
   "cell_type": "code",
   "execution_count": 27,
   "metadata": {},
   "outputs": [],
   "source": [
    "def ko_encode(tmpstr : str) -> np.array :\n",
    "    tmpstr = np.array(sp_trg.EncodeAsIds(tmpstr))\n",
    "    tmpstr = np.insert(tmpstr, 0, sp_trg.bos_id())\n",
    "\n",
    "    if len(tmpstr) > SEQ_LEN :\n",
    "        # SEQ_LEN -1의 길이로 자른다\n",
    "        tmpstr = tmpstr[:SEQ_LEN-1]\n",
    "        # 마지막에 <eos> 토큰을 넣어줌으로써, 길이를 SEQ_LEN으로 맞춘다\n",
    "        tmpstr = np.insert(tmpstr, -1, sp_trg.eos_id())\n",
    "\n",
    "    else:\n",
    "        tmpstr = np.insert(tmpstr, -1, sp_trg.eos_id())\n",
    "        tmpstr = np.pad(tmpstr, (0, SEQ_LEN - len(tmpstr)), 'constant', constant_values = sp_trg.pad_id())\n",
    "\n",
    "    return tmpstr\n"
   ]
  },
  {
   "cell_type": "code",
   "execution_count": 28,
   "metadata": {},
   "outputs": [
    {
     "data": {
      "text/plain": [
       "[array([    2,   721, 30905, 30546, 11101,    24, 30900, 30558,   130,\n",
       "        30970, 31043,  2579, 28212,  1207,   490, 30600,  2024,  5312,\n",
       "        29426,   548, 15377, 23537,   168, 11300, 30546,  3611, 30841,\n",
       "        30551,     3, 29426,     0,     0,     0,     0,     0,     0,\n",
       "            0,     0,     0,     0,     0,     0,     0,     0,     0,\n",
       "            0,     0,     0,     0,     0,     0,     0,     0,     0,\n",
       "            0,     0,     0,     0,     0,     0,     0,     0,     0,\n",
       "            0,     0,     0,     0,     0,     0,     0,     0,     0,\n",
       "            0,     0,     0,     0,     0,     0,     0,     0,     0,\n",
       "            0,     0,     0,     0,     0,     0,     0,     0,     0,\n",
       "            0,     0,     0,     0,     0,     0,     0,     0,     0,\n",
       "            0,     0,     0,     0,     0,     0,     0,     0,     0,\n",
       "            0,     0,     0,     0,     0,     0,     0,     0,     0,\n",
       "            0,     0,     0,     0,     0,     0,     0,     0,     0,\n",
       "            0,     0,     0,     0,     0,     0,     0,     0,     0,\n",
       "            0,     0,     0,     0,     0,     0,     0,     0,     0,\n",
       "            0,     0,     0,     0,     0,     0,     0,     0,     0,\n",
       "            0,     0,     0,     0,     0,     0,     0,     0,     0,\n",
       "            0,     0,     0,     0,     0,     0,     0,     0,     0,\n",
       "            0,     0,     0,     0,     0,     0,     0,     0,     0,\n",
       "            0,     0,     0,     0,     0,     0,     0,     0,     0,\n",
       "            0,     0,     0,     0,     0,     0,     0,     0,     0,\n",
       "            0,     0]),\n",
       " array([    2,   978, 17589,   836, 19344, 31324,  2232, 30815,  1601,\n",
       "         1002,  2210,     7,   444,   613, 30614, 31834,     3, 30592,\n",
       "            0,     0,     0,     0,     0,     0,     0,     0,     0,\n",
       "            0,     0,     0,     0,     0,     0,     0,     0,     0,\n",
       "            0,     0,     0,     0,     0,     0,     0,     0,     0,\n",
       "            0,     0,     0,     0,     0,     0,     0,     0,     0,\n",
       "            0,     0,     0,     0,     0,     0,     0,     0,     0,\n",
       "            0,     0,     0,     0,     0,     0,     0,     0,     0,\n",
       "            0,     0,     0,     0,     0,     0,     0,     0,     0,\n",
       "            0,     0,     0,     0,     0,     0,     0,     0,     0,\n",
       "            0,     0,     0,     0,     0,     0,     0,     0,     0,\n",
       "            0,     0,     0,     0,     0,     0,     0,     0,     0,\n",
       "            0,     0,     0,     0,     0,     0,     0,     0,     0,\n",
       "            0,     0,     0,     0,     0,     0,     0,     0,     0,\n",
       "            0,     0,     0,     0,     0,     0,     0,     0,     0,\n",
       "            0,     0,     0,     0,     0,     0,     0,     0,     0,\n",
       "            0,     0,     0,     0,     0,     0,     0,     0,     0,\n",
       "            0,     0,     0,     0,     0,     0,     0,     0,     0,\n",
       "            0,     0,     0,     0,     0,     0,     0,     0,     0,\n",
       "            0,     0,     0,     0,     0,     0,     0,     0,     0,\n",
       "            0,     0,     0,     0,     0,     0,     0,     0,     0,\n",
       "            0,     0,     0,     0,     0,     0,     0,     0,     0,\n",
       "            0,     0]),\n",
       " array([    2,  2232, 30815, 20243,     3, 10821,     0,     0,     0,\n",
       "            0,     0,     0,     0,     0,     0,     0,     0,     0,\n",
       "            0,     0,     0,     0,     0,     0,     0,     0,     0,\n",
       "            0,     0,     0,     0,     0,     0,     0,     0,     0,\n",
       "            0,     0,     0,     0,     0,     0,     0,     0,     0,\n",
       "            0,     0,     0,     0,     0,     0,     0,     0,     0,\n",
       "            0,     0,     0,     0,     0,     0,     0,     0,     0,\n",
       "            0,     0,     0,     0,     0,     0,     0,     0,     0,\n",
       "            0,     0,     0,     0,     0,     0,     0,     0,     0,\n",
       "            0,     0,     0,     0,     0,     0,     0,     0,     0,\n",
       "            0,     0,     0,     0,     0,     0,     0,     0,     0,\n",
       "            0,     0,     0,     0,     0,     0,     0,     0,     0,\n",
       "            0,     0,     0,     0,     0,     0,     0,     0,     0,\n",
       "            0,     0,     0,     0,     0,     0,     0,     0,     0,\n",
       "            0,     0,     0,     0,     0,     0,     0,     0,     0,\n",
       "            0,     0,     0,     0,     0,     0,     0,     0,     0,\n",
       "            0,     0,     0,     0,     0,     0,     0,     0,     0,\n",
       "            0,     0,     0,     0,     0,     0,     0,     0,     0,\n",
       "            0,     0,     0,     0,     0,     0,     0,     0,     0,\n",
       "            0,     0,     0,     0,     0,     0,     0,     0,     0,\n",
       "            0,     0,     0,     0,     0,     0,     0,     0,     0,\n",
       "            0,     0,     0,     0,     0,     0,     0,     0,     0,\n",
       "            0,     0]),\n",
       " array([    2, 10477,  6012,  7865,     3,   297,     0,     0,     0,\n",
       "            0,     0,     0,     0,     0,     0,     0,     0,     0,\n",
       "            0,     0,     0,     0,     0,     0,     0,     0,     0,\n",
       "            0,     0,     0,     0,     0,     0,     0,     0,     0,\n",
       "            0,     0,     0,     0,     0,     0,     0,     0,     0,\n",
       "            0,     0,     0,     0,     0,     0,     0,     0,     0,\n",
       "            0,     0,     0,     0,     0,     0,     0,     0,     0,\n",
       "            0,     0,     0,     0,     0,     0,     0,     0,     0,\n",
       "            0,     0,     0,     0,     0,     0,     0,     0,     0,\n",
       "            0,     0,     0,     0,     0,     0,     0,     0,     0,\n",
       "            0,     0,     0,     0,     0,     0,     0,     0,     0,\n",
       "            0,     0,     0,     0,     0,     0,     0,     0,     0,\n",
       "            0,     0,     0,     0,     0,     0,     0,     0,     0,\n",
       "            0,     0,     0,     0,     0,     0,     0,     0,     0,\n",
       "            0,     0,     0,     0,     0,     0,     0,     0,     0,\n",
       "            0,     0,     0,     0,     0,     0,     0,     0,     0,\n",
       "            0,     0,     0,     0,     0,     0,     0,     0,     0,\n",
       "            0,     0,     0,     0,     0,     0,     0,     0,     0,\n",
       "            0,     0,     0,     0,     0,     0,     0,     0,     0,\n",
       "            0,     0,     0,     0,     0,     0,     0,     0,     0,\n",
       "            0,     0,     0,     0,     0,     0,     0,     0,     0,\n",
       "            0,     0,     0,     0,     0,     0,     0,     0,     0,\n",
       "            0,     0]),\n",
       " array([    2,  7056, 10310,  7261,  3038, 11797,    29,     3,  2322,\n",
       "            0,     0,     0,     0,     0,     0,     0,     0,     0,\n",
       "            0,     0,     0,     0,     0,     0,     0,     0,     0,\n",
       "            0,     0,     0,     0,     0,     0,     0,     0,     0,\n",
       "            0,     0,     0,     0,     0,     0,     0,     0,     0,\n",
       "            0,     0,     0,     0,     0,     0,     0,     0,     0,\n",
       "            0,     0,     0,     0,     0,     0,     0,     0,     0,\n",
       "            0,     0,     0,     0,     0,     0,     0,     0,     0,\n",
       "            0,     0,     0,     0,     0,     0,     0,     0,     0,\n",
       "            0,     0,     0,     0,     0,     0,     0,     0,     0,\n",
       "            0,     0,     0,     0,     0,     0,     0,     0,     0,\n",
       "            0,     0,     0,     0,     0,     0,     0,     0,     0,\n",
       "            0,     0,     0,     0,     0,     0,     0,     0,     0,\n",
       "            0,     0,     0,     0,     0,     0,     0,     0,     0,\n",
       "            0,     0,     0,     0,     0,     0,     0,     0,     0,\n",
       "            0,     0,     0,     0,     0,     0,     0,     0,     0,\n",
       "            0,     0,     0,     0,     0,     0,     0,     0,     0,\n",
       "            0,     0,     0,     0,     0,     0,     0,     0,     0,\n",
       "            0,     0,     0,     0,     0,     0,     0,     0,     0,\n",
       "            0,     0,     0,     0,     0,     0,     0,     0,     0,\n",
       "            0,     0,     0,     0,     0,     0,     0,     0,     0,\n",
       "            0,     0,     0,     0,     0,     0,     0,     0,     0,\n",
       "            0,     0]),\n",
       " array([    2,  7291, 30645,  5424,   273,  7056, 31642,  7117,     3,\n",
       "          273,     0,     0,     0,     0,     0,     0,     0,     0,\n",
       "            0,     0,     0,     0,     0,     0,     0,     0,     0,\n",
       "            0,     0,     0,     0,     0,     0,     0,     0,     0,\n",
       "            0,     0,     0,     0,     0,     0,     0,     0,     0,\n",
       "            0,     0,     0,     0,     0,     0,     0,     0,     0,\n",
       "            0,     0,     0,     0,     0,     0,     0,     0,     0,\n",
       "            0,     0,     0,     0,     0,     0,     0,     0,     0,\n",
       "            0,     0,     0,     0,     0,     0,     0,     0,     0,\n",
       "            0,     0,     0,     0,     0,     0,     0,     0,     0,\n",
       "            0,     0,     0,     0,     0,     0,     0,     0,     0,\n",
       "            0,     0,     0,     0,     0,     0,     0,     0,     0,\n",
       "            0,     0,     0,     0,     0,     0,     0,     0,     0,\n",
       "            0,     0,     0,     0,     0,     0,     0,     0,     0,\n",
       "            0,     0,     0,     0,     0,     0,     0,     0,     0,\n",
       "            0,     0,     0,     0,     0,     0,     0,     0,     0,\n",
       "            0,     0,     0,     0,     0,     0,     0,     0,     0,\n",
       "            0,     0,     0,     0,     0,     0,     0,     0,     0,\n",
       "            0,     0,     0,     0,     0,     0,     0,     0,     0,\n",
       "            0,     0,     0,     0,     0,     0,     0,     0,     0,\n",
       "            0,     0,     0,     0,     0,     0,     0,     0,     0,\n",
       "            0,     0,     0,     0,     0,     0,     0,     0,     0,\n",
       "            0,     0]),\n",
       " array([    2,  2232, 30815, 20243,     3, 10821,     0,     0,     0,\n",
       "            0,     0,     0,     0,     0,     0,     0,     0,     0,\n",
       "            0,     0,     0,     0,     0,     0,     0,     0,     0,\n",
       "            0,     0,     0,     0,     0,     0,     0,     0,     0,\n",
       "            0,     0,     0,     0,     0,     0,     0,     0,     0,\n",
       "            0,     0,     0,     0,     0,     0,     0,     0,     0,\n",
       "            0,     0,     0,     0,     0,     0,     0,     0,     0,\n",
       "            0,     0,     0,     0,     0,     0,     0,     0,     0,\n",
       "            0,     0,     0,     0,     0,     0,     0,     0,     0,\n",
       "            0,     0,     0,     0,     0,     0,     0,     0,     0,\n",
       "            0,     0,     0,     0,     0,     0,     0,     0,     0,\n",
       "            0,     0,     0,     0,     0,     0,     0,     0,     0,\n",
       "            0,     0,     0,     0,     0,     0,     0,     0,     0,\n",
       "            0,     0,     0,     0,     0,     0,     0,     0,     0,\n",
       "            0,     0,     0,     0,     0,     0,     0,     0,     0,\n",
       "            0,     0,     0,     0,     0,     0,     0,     0,     0,\n",
       "            0,     0,     0,     0,     0,     0,     0,     0,     0,\n",
       "            0,     0,     0,     0,     0,     0,     0,     0,     0,\n",
       "            0,     0,     0,     0,     0,     0,     0,     0,     0,\n",
       "            0,     0,     0,     0,     0,     0,     0,     0,     0,\n",
       "            0,     0,     0,     0,     0,     0,     0,     0,     0,\n",
       "            0,     0,     0,     0,     0,     0,     0,     0,     0,\n",
       "            0,     0]),\n",
       " array([    2,  6331, 30569, 22269,  4272,  4835,     3,  1026,     0,\n",
       "            0,     0,     0,     0,     0,     0,     0,     0,     0,\n",
       "            0,     0,     0,     0,     0,     0,     0,     0,     0,\n",
       "            0,     0,     0,     0,     0,     0,     0,     0,     0,\n",
       "            0,     0,     0,     0,     0,     0,     0,     0,     0,\n",
       "            0,     0,     0,     0,     0,     0,     0,     0,     0,\n",
       "            0,     0,     0,     0,     0,     0,     0,     0,     0,\n",
       "            0,     0,     0,     0,     0,     0,     0,     0,     0,\n",
       "            0,     0,     0,     0,     0,     0,     0,     0,     0,\n",
       "            0,     0,     0,     0,     0,     0,     0,     0,     0,\n",
       "            0,     0,     0,     0,     0,     0,     0,     0,     0,\n",
       "            0,     0,     0,     0,     0,     0,     0,     0,     0,\n",
       "            0,     0,     0,     0,     0,     0,     0,     0,     0,\n",
       "            0,     0,     0,     0,     0,     0,     0,     0,     0,\n",
       "            0,     0,     0,     0,     0,     0,     0,     0,     0,\n",
       "            0,     0,     0,     0,     0,     0,     0,     0,     0,\n",
       "            0,     0,     0,     0,     0,     0,     0,     0,     0,\n",
       "            0,     0,     0,     0,     0,     0,     0,     0,     0,\n",
       "            0,     0,     0,     0,     0,     0,     0,     0,     0,\n",
       "            0,     0,     0,     0,     0,     0,     0,     0,     0,\n",
       "            0,     0,     0,     0,     0,     0,     0,     0,     0,\n",
       "            0,     0,     0,     0,     0,     0,     0,     0,     0,\n",
       "            0,     0]),\n",
       " array([    2,   464,  7289,  4539,  2638, 25571,     3,  4539,     0,\n",
       "            0,     0,     0,     0,     0,     0,     0,     0,     0,\n",
       "            0,     0,     0,     0,     0,     0,     0,     0,     0,\n",
       "            0,     0,     0,     0,     0,     0,     0,     0,     0,\n",
       "            0,     0,     0,     0,     0,     0,     0,     0,     0,\n",
       "            0,     0,     0,     0,     0,     0,     0,     0,     0,\n",
       "            0,     0,     0,     0,     0,     0,     0,     0,     0,\n",
       "            0,     0,     0,     0,     0,     0,     0,     0,     0,\n",
       "            0,     0,     0,     0,     0,     0,     0,     0,     0,\n",
       "            0,     0,     0,     0,     0,     0,     0,     0,     0,\n",
       "            0,     0,     0,     0,     0,     0,     0,     0,     0,\n",
       "            0,     0,     0,     0,     0,     0,     0,     0,     0,\n",
       "            0,     0,     0,     0,     0,     0,     0,     0,     0,\n",
       "            0,     0,     0,     0,     0,     0,     0,     0,     0,\n",
       "            0,     0,     0,     0,     0,     0,     0,     0,     0,\n",
       "            0,     0,     0,     0,     0,     0,     0,     0,     0,\n",
       "            0,     0,     0,     0,     0,     0,     0,     0,     0,\n",
       "            0,     0,     0,     0,     0,     0,     0,     0,     0,\n",
       "            0,     0,     0,     0,     0,     0,     0,     0,     0,\n",
       "            0,     0,     0,     0,     0,     0,     0,     0,     0,\n",
       "            0,     0,     0,     0,     0,     0,     0,     0,     0,\n",
       "            0,     0,     0,     0,     0,     0,     0,     0,     0,\n",
       "            0,     0]),\n",
       " array([    2,  2232, 30815, 12794,   451, 30669,     3,  2322,     0,\n",
       "            0,     0,     0,     0,     0,     0,     0,     0,     0,\n",
       "            0,     0,     0,     0,     0,     0,     0,     0,     0,\n",
       "            0,     0,     0,     0,     0,     0,     0,     0,     0,\n",
       "            0,     0,     0,     0,     0,     0,     0,     0,     0,\n",
       "            0,     0,     0,     0,     0,     0,     0,     0,     0,\n",
       "            0,     0,     0,     0,     0,     0,     0,     0,     0,\n",
       "            0,     0,     0,     0,     0,     0,     0,     0,     0,\n",
       "            0,     0,     0,     0,     0,     0,     0,     0,     0,\n",
       "            0,     0,     0,     0,     0,     0,     0,     0,     0,\n",
       "            0,     0,     0,     0,     0,     0,     0,     0,     0,\n",
       "            0,     0,     0,     0,     0,     0,     0,     0,     0,\n",
       "            0,     0,     0,     0,     0,     0,     0,     0,     0,\n",
       "            0,     0,     0,     0,     0,     0,     0,     0,     0,\n",
       "            0,     0,     0,     0,     0,     0,     0,     0,     0,\n",
       "            0,     0,     0,     0,     0,     0,     0,     0,     0,\n",
       "            0,     0,     0,     0,     0,     0,     0,     0,     0,\n",
       "            0,     0,     0,     0,     0,     0,     0,     0,     0,\n",
       "            0,     0,     0,     0,     0,     0,     0,     0,     0,\n",
       "            0,     0,     0,     0,     0,     0,     0,     0,     0,\n",
       "            0,     0,     0,     0,     0,     0,     0,     0,     0,\n",
       "            0,     0,     0,     0,     0,     0,     0,     0,     0,\n",
       "            0,     0])]"
      ]
     },
     "execution_count": 28,
     "metadata": {},
     "output_type": "execute_result"
    }
   ],
   "source": [
    "# trg_data는 data['trg']를 참조한다. (동일 id)\n",
    "trg_data = data['trg']\n",
    "\n",
    "trg_list = []\n",
    "for item in trg_data:\n",
    "    trg_list.append(ko_encode(item))\n",
    "\n",
    "trg_list[:10]\n"
   ]
  }
 ],
 "metadata": {
  "interpreter": {
   "hash": "9aea7b6a7444b8f7906e49a0ee5a1a1954c47b5d0459b9029b34272caa5266f3"
  },
  "kernelspec": {
   "display_name": "Python 3.9.7 64-bit ('base': conda)",
   "language": "python",
   "name": "python3"
  },
  "language_info": {
   "codemirror_mode": {
    "name": "ipython",
    "version": 3
   },
   "file_extension": ".py",
   "mimetype": "text/x-python",
   "name": "python",
   "nbconvert_exporter": "python",
   "pygments_lexer": "ipython3",
   "version": "3.9.7"
  },
  "orig_nbformat": 4
 },
 "nbformat": 4,
 "nbformat_minor": 2
}
